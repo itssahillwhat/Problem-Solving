{
 "cells": [
  {
   "metadata": {},
   "cell_type": "code",
   "source": [
    "# WAP to calculate the day for 1st jan given year as an input. \n",
    "def leap_year(year):\n",
    "    return year % 4 == 0 and (year % 100 != 0 or year % 400 == 0)\n",
    "\n",
    "def get_day(year):\n",
    "    days_passed = 0\n",
    "\n",
    "    for y in range(1, year):\n",
    "        days_passed += 366 if leap_year(y) else 365\n",
    "\n",
    "    days_passed += 1\n",
    "\n",
    "    day = days_passed % 7\n",
    "\n",
    "    days = [\"Sunday\", \"Monday\", \"Tuesday\", \"Wednesday\", \"Thursday\", \"Friday\", \"Saturday\"]\n",
    "    return days[day]\n",
    "\n",
    "\n",
    "year = int(input(\"Enter a year (1 or later): \")) # 1AD\n",
    "\n",
    "day_of_week = get_day(year)\n",
    "print(f\"January 1st, {year} was a {day_of_week}\")"
   ],
   "id": "e87c2a1789070b9e",
   "outputs": [],
   "execution_count": null
  },
  {
   "metadata": {},
   "cell_type": "code",
   "source": [
    "# import statistics\n",
    "# WAP to calculate the mean of an array\n",
    "import numpy as np\n",
    "arr = np.array([23, 45, 11, 47, 87])\n",
    "\n",
    "sum = 0\n",
    "count=0\n",
    "for i in arr:\n",
    "    sum += i\n",
    "    count += 1\n",
    "\n",
    "print(f\"mean: {sum/count}\")"
   ],
   "id": "464d28596a3bb62",
   "outputs": [],
   "execution_count": null
  },
  {
   "metadata": {},
   "cell_type": "code",
   "source": [
    "# WAP to calculate the median of an array\n",
    "arr = np.array([23, 45, 11, 47, 87])\n",
    "\n",
    "arr.sort() # can also use counting sort\n",
    "count -= 1 # why -1? becoz of indexing 0\n",
    "\n",
    "if count % 2 == 0:  \n",
    "    median = (arr[count // 2 - 1] + arr[count // 2]) / 2\n",
    "else: \n",
    "    median = arr[count // 2]\n",
    "    \n",
    "print(\"Median:\", median)"
   ],
   "id": "c7c999400cefb6e7",
   "outputs": [],
   "execution_count": null
  },
  {
   "metadata": {},
   "cell_type": "code",
   "source": [
    "# WAP to calculate to check whether the array is sorted or not\n",
    "arr = np.array([23, 45, 11, 47, 87])\n",
    "\n",
    "for i in range(len(arr)):\n",
    "    if arr[i] < arr[i+1]:\n",
    "        continue\n",
    "    else:\n",
    "        print(\"not sorted\")\n",
    "        break\n",
    "else:\n",
    "    print(\"sorted\")"
   ],
   "id": "2d7dad820ccf2703",
   "outputs": [],
   "execution_count": null
  },
  {
   "metadata": {},
   "cell_type": "code",
   "source": [
    "## WAP a program to find the first and second maximum number.\n",
    "max = int(input(\"Enter a number(max): \"))\n",
    "smax = None\n",
    "for i in range(5):\n",
    "    num = int(input(\"Enter a number(num): \"))\n",
    "    \n",
    "    if num > max: \n",
    "        smax = max\n",
    "        max = num\n",
    "    elif smax is None or num > smax:\n",
    "        if num != max:\n",
    "            smax = num\n",
    "    \n",
    "print(f\"Max: {max}, Second Max: {smax}\")"
   ],
   "id": "db6284e8996f01c8",
   "outputs": [],
   "execution_count": null
  },
  {
   "metadata": {
    "ExecuteTime": {
     "end_time": "2024-10-03T11:39:00.578126Z",
     "start_time": "2024-10-03T11:38:20.455326Z"
    }
   },
   "cell_type": "code",
   "source": [
    "# Calculator\n",
    "result = int(input(\"Enter a number: \"))\n",
    "\n",
    "print()\n",
    "while True:\n",
    "    operation = input(\n",
    "        \"\"\"\n",
    "        Type which type of operation u want:\n",
    "         1. Addition\n",
    "         2. Subtraction\n",
    "         3. Multiplication\n",
    "         4. Division\n",
    "         \"\"\" + \n",
    "         \"\\n\\nEnter your operation(+, -, *, / or ? to end): \"\n",
    "    )\n",
    "    num = int(input(\"Enter a number: \"))\n",
    "    match operation:\n",
    "        case '?':\n",
    "            break\n",
    "        case '+':\n",
    "            result += num\n",
    "        case '-':\n",
    "            result -= num\n",
    "        case '*':\n",
    "            result *= num\n",
    "        case '/':\n",
    "            result //= num\n",
    "            \n",
    "print(f\"Result: {result}\")"
   ],
   "id": "524d61d8a5a24e3",
   "outputs": [
    {
     "name": "stdout",
     "output_type": "stream",
     "text": [
      "\n",
      "Result: 8\n"
     ]
    }
   ],
   "execution_count": 1
  },
  {
   "metadata": {
    "ExecuteTime": {
     "end_time": "2024-10-03T11:41:46.134255Z",
     "start_time": "2024-10-03T11:41:32.831580Z"
    }
   },
   "cell_type": "code",
   "source": [
    "# wap to add n number and n number is the choice of the user\n",
    "n = int(input(\"Enter a number: \"))\n",
    "\n",
    "sum = 0\n",
    "for _ in range(n):\n",
    "    no = int(input(\"Enter a number: \"))\n",
    "    sum += no\n",
    "print(f\"Sum: {sum}\")"
   ],
   "id": "deb3537e27899092",
   "outputs": [
    {
     "name": "stdout",
     "output_type": "stream",
     "text": [
      "Sum: 226\n"
     ]
    }
   ],
   "execution_count": 2
  },
  {
   "metadata": {
    "ExecuteTime": {
     "end_time": "2024-10-07T06:10:30.364470Z",
     "start_time": "2024-10-07T06:10:30.349769Z"
    }
   },
   "cell_type": "code",
   "source": [
    "class abc:\n",
    "    def __init__(self):\n",
    "        self._a = 5\n",
    "        print(self._a)\n",
    "\n",
    "ob = abc()"
   ],
   "id": "ee4275c6afce951d",
   "outputs": [
    {
     "name": "stdout",
     "output_type": "stream",
     "text": [
      "5\n"
     ]
    }
   ],
   "execution_count": 5
  }
 ],
 "metadata": {
  "kernelspec": {
   "display_name": "Python 3",
   "language": "python",
   "name": "python3"
  },
  "language_info": {
   "codemirror_mode": {
    "name": "ipython",
    "version": 2
   },
   "file_extension": ".py",
   "mimetype": "text/x-python",
   "name": "python",
   "nbconvert_exporter": "python",
   "pygments_lexer": "ipython2",
   "version": "2.7.6"
  }
 },
 "nbformat": 4,
 "nbformat_minor": 5
}

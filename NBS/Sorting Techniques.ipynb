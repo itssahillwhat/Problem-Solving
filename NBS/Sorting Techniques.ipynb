{
 "cells": [
  {
   "cell_type": "code",
   "id": "initial_id",
   "metadata": {
    "collapsed": true,
    "ExecuteTime": {
     "end_time": "2024-10-26T07:07:20.408004Z",
     "start_time": "2024-10-26T07:07:20.385918Z"
    }
   },
   "source": [
    "class Sorting:\n",
    "    def __init__(self, arr):\n",
    "        self.arr = arr\n",
    "\n",
    "    def selection(self):\n",
    "        size = len(self.arr)\n",
    "        for i in range(size - 1):\n",
    "            min_index = i\n",
    "            for j in range(i + 1, size):\n",
    "                if self.arr[j] < self.arr[min_index]:\n",
    "                    min_index = j\n",
    "            self.arr[i], self.arr[min_index] = self.arr[min_index], self.arr[i]\n",
    "        \n",
    "        return self.arr\n",
    "\n",
    "    def bubble(self):\n",
    "        length = len(self.arr)\n",
    "        for i in range(length - 1, 0, -1):\n",
    "            flag = False\n",
    "            for j in range(i):\n",
    "                if self.arr[j] > self.arr[j + 1]:\n",
    "                    self.arr[j], self.arr[j + 1] = self.arr[j + 1], self.arr[j]\n",
    "                    flag = True\n",
    "            if not flag:\n",
    "                break\n",
    "        \n",
    "        return self.arr\n",
    "\n",
    "    def insertion(self):\n",
    "        n = len(self.arr)\n",
    "        for i in range(1, n):\n",
    "            j = i\n",
    "            while j > 0 and self.arr[j - 1] > self.arr[j]:\n",
    "                self.arr[j], self.arr[j - 1] = self.arr[j - 1], self.arr[j]\n",
    "                j -= 1\n",
    "                \n",
    "        return self.arr\n",
    "    \n",
    "    def merge(self, low, mid, high):\n",
    "        temp = []\n",
    "        left = low\n",
    "        right = mid + 1\n",
    "        \n",
    "        while left <= mid and right <= high:\n",
    "            if self.arr[left] < self.arr[right]:\n",
    "                temp.append(self.arr[left])\n",
    "                left += 1\n",
    "            else:\n",
    "                temp.append(self.arr[right])\n",
    "                right += 1\n",
    "        \n",
    "        while left <= mid:\n",
    "            temp.append(self.arr[left])\n",
    "            left += 1\n",
    "            \n",
    "        while right <= high:\n",
    "            temp.append(self.arr[right])\n",
    "            right += 1\n",
    "            \n",
    "        for i in range(low, high + 1):\n",
    "            self.arr[i] = temp[i-low]\n",
    "        \n",
    "    def mergeSort(self, low, high):\n",
    "        if low >= high: return\n",
    "        mid = (low + high) // 2\n",
    "        self.mergeSort(low, mid)\n",
    "        self.mergeSort(mid + 1, high)\n",
    "        self.merge(low, mid, high)\n",
    "        return self.arr\n",
    "    \n",
    "    def divide(self, low, high):\n",
    "        pivot = self.arr[low]\n",
    "        i = low\n",
    "        j = high\n",
    "        while True:\n",
    "            while i <= high and self.arr[i] <= pivot:\n",
    "                i += 1\n",
    "            while j >= low and self.arr[j] > pivot:\n",
    "                j -= 1\n",
    "            if i < j:\n",
    "                self.arr[i], self.arr[j] = self.arr[j], self.arr[i]\n",
    "            else:\n",
    "                break\n",
    "        self.arr[low], self.arr[j] = self.arr[j], self.arr[low]\n",
    "        return j\n",
    "\n",
    "    def quickSort(self, low, high):\n",
    "        if low < high:\n",
    "            partition = self.divide(low, high)\n",
    "            self.quickSort(low, partition - 1)\n",
    "            self.quickSort(partition + 1, high)"
   ],
   "outputs": [],
   "execution_count": 17
  },
  {
   "metadata": {
    "ExecuteTime": {
     "end_time": "2024-10-26T07:07:20.775843Z",
     "start_time": "2024-10-26T07:07:20.752354Z"
    }
   },
   "cell_type": "code",
   "source": [
    "array = [23, 11, 78, 34, 90, 99, 1]\n",
    "sorting = Sorting(array.copy())\n",
    "\n",
    "print(\"Original Array:\", array)\n",
    "\n",
    "# print(\"Selection Sort:\", sorting.selection())\n",
    "# \n",
    "# sorting.arr = array.copy()\n",
    "# print(\"Bubble Sort:\", sorting.bubble())\n",
    "# \n",
    "# sorting.arr = array.copy()\n",
    "# print(\"Insertion Sort:\", sorting.insertion())\n",
    "\n",
    "# sorting.arr = array.copy()\n",
    "# print(\"Merge Sort:\", sorting.mergeSort(0, len(array)-1))\n",
    "\n",
    "sorting.arr = array.copy()\n",
    "sorting.quickSort(0, len(array)-1)\n",
    "print(\"Quick Sort:\", sorting.arr)"
   ],
   "id": "40f73f38409e025a",
   "outputs": [
    {
     "name": "stdout",
     "output_type": "stream",
     "text": [
      "Original Array: [23, 11, 78, 34, 90, 99, 1]\n",
      "Quick Sort: [1, 11, 23, 34, 78, 90, 99]\n"
     ]
    }
   ],
   "execution_count": 18
  },
  {
   "metadata": {},
   "cell_type": "code",
   "source": [
    "def recursiveBubble(arr, n):\n",
    "    if n == 1: return \n",
    "    for j in range(n - 1):\n",
    "        if arr[j] > arr[j + 1]:\n",
    "            arr[j], arr[j + 1] = arr[j + 1], arr[j]\n",
    "            \n",
    "    recursiveBubble(arr, n - 1)\n",
    "    \n",
    "array = [23, 11, 78, 34, 90, 99, 1]\n",
    "recursiveBubble(array, len(array))\n",
    "print(\"Sorted Array:\", array)"
   ],
   "id": "3657c26d142248eb",
   "outputs": [
    {
     "name": "stdout",
     "output_type": "stream",
     "text": [
      "Sorted Array: [1, 11, 23, 34, 78, 90, 99]\n"
     ]
    }
   ],
   "execution_count": 5
  },
  {
   "metadata": {
    "ExecuteTime": {
     "end_time": "2024-10-26T05:14:37.907631Z",
     "start_time": "2024-10-26T05:14:37.888069Z"
    }
   },
   "cell_type": "code",
   "source": [
    "def recursiveInsertion(arr, i, n):\n",
    "    if i == n: return\n",
    "    j = i\n",
    "    while j > 0 and arr[j - 1] > arr[j]:\n",
    "        arr[j], arr[j - 1] = arr[j - 1], arr[j]\n",
    "        j -= 1\n",
    "    recursiveInsertion(arr, i+1, n)\n",
    "    \n",
    "array = [23, 11, 78, 34, 90, 99, 1]\n",
    "recursiveInsertion(array, 1, len(array))\n",
    "print(\"Sorted Array:\", array)"
   ],
   "id": "e888307e79b9e7f1",
   "outputs": [
    {
     "name": "stdout",
     "output_type": "stream",
     "text": [
      "Sorted Array: [1, 11, 23, 34, 78, 90, 99]\n"
     ]
    }
   ],
   "execution_count": 8
  },
  {
   "metadata": {},
   "cell_type": "code",
   "outputs": [],
   "execution_count": null,
   "source": "",
   "id": "f04570d5cf1a8371"
  }
 ],
 "metadata": {
  "kernelspec": {
   "display_name": "Python 3",
   "language": "python",
   "name": "python3"
  },
  "language_info": {
   "codemirror_mode": {
    "name": "ipython",
    "version": 2
   },
   "file_extension": ".py",
   "mimetype": "text/x-python",
   "name": "python",
   "nbconvert_exporter": "python",
   "pygments_lexer": "ipython2",
   "version": "2.7.6"
  }
 },
 "nbformat": 4,
 "nbformat_minor": 5
}

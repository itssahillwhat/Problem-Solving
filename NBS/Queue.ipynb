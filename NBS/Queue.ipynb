{
 "cells": [
  {
   "cell_type": "code",
   "execution_count": null,
   "id": "initial_id",
   "metadata": {
    "collapsed": true
   },
   "outputs": [],
   "source": [
    "class Node:\n",
    "    def __init__(self, data):\n",
    "        self.data = data\n",
    "        self.next = None\n",
    "        \n",
    "class SimpleQueue:\n",
    "    def __init__(self):\n",
    "        new_node = Node(None)\n",
    "        self.front = new_node\n",
    "        self.back = new_node\n",
    "        self.length = 1\n",
    "        \n",
    "    def print_queue(self):\n",
    "        temp = self.front\n",
    "        while temp:\n",
    "            print(temp.data)\n",
    "            temp = temp.next\n",
    "            \n",
    "    def enqueue(self, data):\n",
    "        new_node = Node(data)\n",
    "        if self.length == 0:\n",
    "            self.front = new_node\n",
    "            self.back = new_node\n",
    "        else:\n",
    "            self.back.next = new_node\n",
    "            self.back = new_node\n",
    "        self.length += 1\n",
    "        \n",
    "    def dequeue(self):\n",
    "        if self.length == 0:\n",
    "            return None\n",
    "        temp = self.front\n",
    "        if self.length == 1:\n",
    "            self.front = None\n",
    "            self.back = None\n",
    "        else:\n",
    "            self.front = self.front.next\n",
    "            temp.next = None\n",
    "        self.length -= 1\n",
    "        return temp"
   ]
  },
  {
   "metadata": {
    "ExecuteTime": {
     "end_time": "2024-10-07T03:37:47.182536Z",
     "start_time": "2024-10-07T03:37:47.174055Z"
    }
   },
   "cell_type": "code",
   "source": [
    "class Node:\n",
    "    def __init__(self, data):\n",
    "        self.data = data\n",
    "        self.next = None\n",
    "        \n",
    "class CircularQueue:\n",
    "    def __init__(self, data):\n",
    "        new_node = Node(data)\n",
    "        self.front = new_node\n",
    "        self.back = new_node\n",
    "        self.length = 1\n",
    "        \n",
    "    def is_empty(self):\n",
    "        return self.length == 0\n",
    "    \n",
    "    def print_queue(self):\n",
    "        if self.is_empty():\n",
    "            print(\"Queue is empty.\")\n",
    "            return\n",
    "        temp = self.front\n",
    "        for _ in range(self.length):\n",
    "            print(temp.data)\n",
    "            temp = temp.next\n",
    "            \n",
    "    def enqueue(self, data):\n",
    "        new_node = Node(data)\n",
    "        if self.is_empty():\n",
    "            new_node.next = self.front\n",
    "            self.front = new_node\n",
    "            self.back = new_node\n",
    "        else:\n",
    "            self.back.next = new_node\n",
    "            self.back = new_node\n",
    "            new_node.next = self.front\n",
    "        self.length += 1\n",
    "        \n",
    "    def dequeue(self):\n",
    "        if self.is_empty():\n",
    "            return None\n",
    "        temp = self.front\n",
    "        if self.length == 1:\n",
    "            self.front = None\n",
    "            self.back = None\n",
    "        else:\n",
    "            self.front = self.front.next\n",
    "            self.back.next = self.front\n",
    "            temp.next = None\n",
    "        self.length -= 1\n",
    "        return temp.data"
   ],
   "id": "380838502c92c37",
   "outputs": [],
   "execution_count": 5
  },
  {
   "metadata": {
    "ExecuteTime": {
     "end_time": "2024-10-07T03:38:08.195761Z",
     "start_time": "2024-10-07T03:38:08.187770Z"
    }
   },
   "cell_type": "code",
   "source": [
    "cq = CircularQueue(0)\n",
    "\n",
    "cq.enqueue(10)\n",
    "cq.enqueue(20)\n",
    "cq.enqueue(30)\n",
    "\n",
    "print(\"Queue:\")\n",
    "cq.print_queue()\n",
    "\n",
    "print(\"\\nDequeued element:\", cq.dequeue())\n",
    "\n",
    "print(\"\\nQueue:\")\n",
    "cq.print_queue()"
   ],
   "id": "eaaeced1775602d8",
   "outputs": [
    {
     "name": "stdout",
     "output_type": "stream",
     "text": [
      "Queue:\n",
      "0\n",
      "10\n",
      "20\n",
      "30\n",
      "\n",
      "Dequeued element: 0\n",
      "\n",
      "Queue:\n",
      "10\n",
      "20\n",
      "30\n"
     ]
    }
   ],
   "execution_count": 7
  },
  {
   "metadata": {
    "ExecuteTime": {
     "end_time": "2024-10-07T03:54:50.320407Z",
     "start_time": "2024-10-07T03:54:50.296924Z"
    }
   },
   "cell_type": "code",
   "source": [
    "class Node:\n",
    "    def __init__(self, data):\n",
    "        self.data = data\n",
    "        self.next = None\n",
    "        self.prev = None\n",
    "\n",
    "class DoubleEndedQueue:\n",
    "    def __init__(self, data):\n",
    "        new_node = Node(data)\n",
    "        self.front = new_node\n",
    "        self.back = new_node\n",
    "        self.length = 1\n",
    "    \n",
    "    def is_empty(self):\n",
    "        return self.length == 0\n",
    "    \n",
    "    def print_queue(self):\n",
    "        if self.is_empty():\n",
    "            print(\"Queue is empty.\")\n",
    "            return\n",
    "        temp = self.front\n",
    "        while temp is not None:\n",
    "            print(temp.data)\n",
    "            temp = temp.next\n",
    "    \n",
    "    def enqueue(self, data):\n",
    "        new_node = Node(data)\n",
    "        if self.is_empty():\n",
    "            self.front = new_node\n",
    "            self.back = new_node\n",
    "        else:\n",
    "            self.back.next = new_node\n",
    "            new_node.prev = self.back\n",
    "            self.back = new_node\n",
    "        self.length += 1\n",
    "        \n",
    "    def dequeue(self):\n",
    "        if self.is_empty():\n",
    "            return None\n",
    "        temp = self.front\n",
    "        if self.length == 1:\n",
    "            self.front = None\n",
    "            self.back = None\n",
    "        else:\n",
    "            self.front = self.front.next\n",
    "            self.front.prev = None\n",
    "        self.length -= 1\n",
    "        return temp.data\n",
    "    \n",
    "    def enqueue_front(self, data):\n",
    "        new_node = Node(data)\n",
    "        if self.is_empty():\n",
    "            self.front = new_node\n",
    "            self.back = new_node\n",
    "        else:\n",
    "            new_node.next = self.front\n",
    "            self.front.prev = new_node\n",
    "            self.front = new_node\n",
    "        self.length += 1\n",
    "        \n",
    "    def dequeue_back(self):\n",
    "        if self.is_empty():\n",
    "            return None\n",
    "        temp = self.back\n",
    "        if self.length == 1:\n",
    "            self.front = None\n",
    "            self.back = None\n",
    "        else:\n",
    "            self.back = self.back.prev\n",
    "            if self.back:\n",
    "                self.back.next = None\n",
    "        self.length -= 1\n",
    "        return temp.data"
   ],
   "id": "6bc17f0342ad4565",
   "outputs": [],
   "execution_count": 12
  },
  {
   "metadata": {
    "ExecuteTime": {
     "end_time": "2024-10-07T03:54:50.676031Z",
     "start_time": "2024-10-07T03:54:50.661588Z"
    }
   },
   "cell_type": "code",
   "source": [
    "dq = DoubleEndedQueue(10)\n",
    "\n",
    "dq.enqueue(20)\n",
    "dq.enqueue(30)\n",
    "dq.enqueue_front(5)\n",
    "\n",
    "print(\"Queue:\")\n",
    "dq.print_queue()\n",
    "\n",
    "dq.dequeue()\n",
    "dq.dequeue_back()\n",
    "\n",
    "print(\"\\nQueue:\")\n",
    "dq.print_queue()\n"
   ],
   "id": "91101b57a9819a85",
   "outputs": [
    {
     "name": "stdout",
     "output_type": "stream",
     "text": [
      "Queue:\n",
      "5\n",
      "10\n",
      "20\n",
      "30\n",
      "\n",
      "Queue:\n",
      "10\n",
      "20\n"
     ]
    }
   ],
   "execution_count": 13
  }
 ],
 "metadata": {
  "kernelspec": {
   "display_name": "Python 3",
   "language": "python",
   "name": "python3"
  },
  "language_info": {
   "codemirror_mode": {
    "name": "ipython",
    "version": 2
   },
   "file_extension": ".py",
   "mimetype": "text/x-python",
   "name": "python",
   "nbconvert_exporter": "python",
   "pygments_lexer": "ipython2",
   "version": "2.7.6"
  }
 },
 "nbformat": 4,
 "nbformat_minor": 5
}

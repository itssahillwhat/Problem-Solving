{
 "cells": [
  {
   "cell_type": "code",
   "execution_count": null,
   "id": "initial_id",
   "metadata": {
    "collapsed": true
   },
   "outputs": [],
   "source": [
    "# Using LinkedList\n",
    "class Node:\n",
    "    def __init__(self, value):\n",
    "        self.value = value\n",
    "        self.next = None\n",
    "        \n",
    "class Stack:\n",
    "    def __init__(self, value):\n",
    "        new_node = Node(value)\n",
    "        self.top = new_node\n",
    "        self.height = 1\n",
    "        \n",
    "    def print_stack(self):\n",
    "        temp = self.top\n",
    "        while temp:\n",
    "            print(temp.value)\n",
    "            temp = temp.next\n",
    "            \n",
    "    def push(self, value):\n",
    "        new_node = Node(value)\n",
    "        if self.top is None or self.is_empty():\n",
    "            self.top = new_node\n",
    "        else:\n",
    "            new_node.next = self.top\n",
    "            self.top = new_node\n",
    "        self.height += 1\n",
    "        \n",
    "    def pop(self):\n",
    "        if self.is_empty():\n",
    "            return None\n",
    "        temp = self.top\n",
    "        self.top = self.top.next\n",
    "        temp.next = None\n",
    "        self.height -= 1\n",
    "        return temp\n",
    "    \n",
    "    def peek(self):\n",
    "        if self.is_empty():\n",
    "            return None\n",
    "        return self.top\n",
    "    \n",
    "    def is_empty(self):\n",
    "        if self.height == 0:\n",
    "            return True\n",
    "        return False\n",
    "    \n",
    "    def clear(self):\n",
    "        if self.is_empty():\n",
    "            print(\"Stack is already empty!\")\n",
    "        else:\n",
    "            self.top = None\n",
    "            self.height = 0\n",
    "            print(\"Stack is now cleared!\")\n",
    "            \n",
    "    def search(self, value):\n",
    "        if self.is_empty():\n",
    "            print(\"Stack is already empty!\")\n",
    "        else:\n",
    "            current_node = self.top\n",
    "            while current_node:\n",
    "                if current_node.value == value: print(\"Value found!\"); break\n",
    "                else: print(\"Value not found!\"); breakpoint()\n",
    "                \n",
    "                    \n",
    "    def update(self, value, data):\n",
    "        if self.is_empty():\n",
    "            print(\"Stack is already empty!\")\n",
    "        else:\n",
    "            current_node = self.top\n",
    "            while current_node:\n",
    "                if current_node.value == value:\n",
    "                    current_node.value = data\n",
    "                    break\n",
    "                current_node = current_node.next"
   ]
  },
  {
   "metadata": {
    "ExecuteTime": {
     "end_time": "2024-10-04T06:39:28.957248Z",
     "start_time": "2024-10-04T06:39:28.939124Z"
    }
   },
   "cell_type": "code",
   "source": [
    "# Using Array\n",
    "class Stack:\n",
    "    def __init__(self, capacity):\n",
    "        self.capacity = capacity\n",
    "        self.stack = [None] * capacity\n",
    "        self.top = -1\n",
    "\n",
    "    def push(self, value):\n",
    "        if self.is_full():\n",
    "            raise IndexError(\"Stack is full!\")\n",
    "        self.top += 1\n",
    "        self.stack[self.top] = value\n",
    "\n",
    "    def pop(self):\n",
    "        if self.is_empty():\n",
    "            raise IndexError(\"Stack is empty!\")\n",
    "        item = self.stack[self.top]\n",
    "        self.stack[self.top] = None\n",
    "        self.top -= 1\n",
    "        return item\n",
    "\n",
    "    def peek(self):\n",
    "        if self.top == -1:\n",
    "            raise IndexError(\"Stack is empty!\")\n",
    "        return self.stack[self.top]\n",
    "\n",
    "    def is_empty(self):\n",
    "        return self.top == -1\n",
    "\n",
    "    def is_full(self):\n",
    "        return self.top == self.capacity - 1\n",
    "\n",
    "    def size(self):\n",
    "        return self.top + 1"
   ],
   "id": "c6d4525cfad19adc",
   "outputs": [],
   "execution_count": 9
  },
  {
   "metadata": {
    "ExecuteTime": {
     "end_time": "2024-10-04T06:40:07.902957Z",
     "start_time": "2024-10-04T06:40:07.894547Z"
    }
   },
   "cell_type": "code",
   "outputs": [
    {
     "name": "stdout",
     "output_type": "stream",
     "text": [
      "Stack: [1, 2, 3]\n",
      "Peek: 3\n",
      "Pop: 3\n",
      "Stack: [1, 2, None]\n",
      "Stack Size: 2\n"
     ]
    }
   ],
   "execution_count": 11,
   "source": [
    "+stack = Stack(3)\n",
    "\n",
    "stack.push(1)\n",
    "stack.push(2)\n",
    "stack.push(3)\n",
    "\n",
    "print(\"Stack:\", stack.stack)\n",
    "\n",
    "print(\"Peek:\", stack.peek())\n",
    "\n",
    "print(\"Pop:\", stack.pop())\n",
    "print(\"Stack:\", stack.stack)\n",
    "print(\"Stack Size:\", stack.size())"
   ],
   "id": "5fc6b26de65afa35"
  }
 ],
 "metadata": {
  "kernelspec": {
   "display_name": "Python 3",
   "language": "python",
   "name": "python3"
  },
  "language_info": {
   "codemirror_mode": {
    "name": "ipython",
    "version": 2
   },
   "file_extension": ".py",
   "mimetype": "text/x-python",
   "name": "python",
   "nbconvert_exporter": "python",
   "pygments_lexer": "ipython2",
   "version": "2.7.6"
  }
 },
 "nbformat": 4,
 "nbformat_minor": 5
}
